{
 "cells": [
  {
   "cell_type": "code",
   "execution_count": 2,
   "metadata": {},
   "outputs": [
    {
     "name": "stdout",
     "output_type": "stream",
     "text": [
      "Collecting package metadata (current_repodata.json): done\n",
      "Solving environment: done\n",
      "\n",
      "# All requested packages already installed.\n",
      "\n",
      "\n",
      "Note: you may need to restart the kernel to use updated packages.\n"
     ]
    }
   ],
   "source": [
    "# install requests\n",
    "conda install requests"
   ]
  },
  {
   "cell_type": "code",
   "execution_count": 3,
   "metadata": {},
   "outputs": [],
   "source": [
    "# import package\n",
    "import requests"
   ]
  },
  {
   "cell_type": "code",
   "execution_count": 7,
   "metadata": {},
   "outputs": [],
   "source": [
    "def starwars_char():\n",
    "    number = input(\"Please choose a random number (1-83) :  \")\n",
    "    link = 'https://swapi.dev/api/people/' + str(number) + '/'\n",
    "    swapi_link = requests.get(link)\n",
    "    starwars_character = swapi_link.json()\n",
    "    print(starwars_character)"
   ]
  },
  {
   "cell_type": "code",
   "execution_count": 8,
   "metadata": {},
   "outputs": [
    {
     "name": "stdout",
     "output_type": "stream",
     "text": [
      "Please choose a random number (1-83) :  15\n",
      "{'name': 'Greedo', 'height': '173', 'mass': '74', 'hair_color': 'n/a', 'skin_color': 'green', 'eye_color': 'black', 'birth_year': '44BBY', 'gender': 'male', 'homeworld': 'http://swapi.dev/api/planets/23/', 'films': ['http://swapi.dev/api/films/1/'], 'species': ['http://swapi.dev/api/species/4/'], 'vehicles': [], 'starships': [], 'created': '2014-12-10T17:03:30.334000Z', 'edited': '2014-12-20T21:17:50.336000Z', 'url': 'http://swapi.dev/api/people/15/'}\n"
     ]
    }
   ],
   "source": [
    "starwars_char()"
   ]
  }
 ],
 "metadata": {
  "kernelspec": {
   "display_name": "Python 3",
   "language": "python",
   "name": "python3"
  },
  "language_info": {
   "codemirror_mode": {
    "name": "ipython",
    "version": 3
   },
   "file_extension": ".py",
   "mimetype": "text/x-python",
   "name": "python",
   "nbconvert_exporter": "python",
   "pygments_lexer": "ipython3",
   "version": "3.7.7"
  }
 },
 "nbformat": 4,
 "nbformat_minor": 4
}
